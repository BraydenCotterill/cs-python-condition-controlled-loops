{
 "cells": [
  {
   "cell_type": "markdown",
   "metadata": {},
   "source": [
    "# Practicing WHILE Loop in Python\n",
    "\n",
    "Remember you can use:\n",
    "\n",
    "WHILE or conditional loops\n",
    "\n",
    "loopVar = <value>\n",
    "while condition :\n",
    "    #indent - do loop stuff\n",
    "    loopVar +=1 # change loop varible or you get an infinite loop!\n",
    "\n",
    "#dedent - loop is done. Do next thing"
   ]
  },
  {
   "cell_type": "markdown",
   "metadata": {},
   "source": [
    "x=0\n",
    "\n",
    "while x<5:\n",
    "\t\n",
    "    print('looping')\n",
    "\n",
    "If we run the above code (don’t) you will find it goes on forever printing looping.  that is because x remains 0 and so is always less than 5. Let’s fix it:\n",
    "\n",
    "\n",
    "x=0 \n",
    "while x<5: \n",
    "\tprint('looping')\n",
    "    #change the loop variable\n",
    "\tx=x+1 \n",
    "\n",
    "Now try running the above code."
   ]
  },
  {
   "cell_type": "code",
   "execution_count": 1,
   "metadata": {},
   "outputs": [
    {
     "name": "stdout",
     "output_type": "stream",
     "text": [
      "looping\n",
      "looping\n",
      "looping\n",
      "looping\n",
      "looping\n"
     ]
    }
   ],
   "source": [
    "# write your code here\n",
    "x =0\n",
    "while x < 5:\n",
    "    print('looping')\n",
    "    x+=1"
   ]
  },
  {
   "cell_type": "markdown",
   "metadata": {},
   "source": [
    "## Task 1: Write a program that asks for a password and keeps asking until the correct password, apple is entered and then says Accepted"
   ]
  },
  {
   "cell_type": "code",
   "execution_count": 3,
   "metadata": {},
   "outputs": [
    {
     "name": "stdout",
     "output_type": "stream",
     "text": [
      "enter password:a\n",
      "incorrect\n",
      "enter password:apple\n",
      "accsepted\n"
     ]
    }
   ],
   "source": [
    "password = \"apple\"\n",
    "\n",
    "# write your code here\n",
    "passin= input('enter password:')\n",
    "while passin != password:\n",
    "    print('incorrect')\n",
    "    passin = input('enter password:')\n",
    "else:\n",
    "    print('accsepted')\n",
    "# ask the user to input a password\n",
    "\n",
    "\n",
    "# Compare the input password with the password, use comparison operator\n"
   ]
  },
  {
   "cell_type": "markdown",
   "metadata": {},
   "source": [
    "## Task2: Write a program to check if the number is prime or not."
   ]
  },
  {
   "cell_type": "code",
   "execution_count": 14,
   "metadata": {},
   "outputs": [],
   "source": [
    "def primeTest(num):\n",
    "    \n",
    "    #hint: start by assuming the number IS a prime\n",
    "    isPrime = True\n",
    "    l = []\n",
    "    \n",
    "    for i in range(1,num+1):\n",
    "        \n",
    "        num2 = num/i\n",
    "        l.append(num2)\n",
    "        \n",
    "    if l[0] == 1:\n",
    "        isPrime = False\n",
    "    elif l[1].is_integer():\n",
    "        isPrime = False\n",
    "    if l[0] == 2:\n",
    "        isPrime = True\n",
    "    else:\n",
    "        print(i)\n",
    "        print(num)\n",
    "        \n",
    "    return isPrime\n",
    "    \n",
    "        "
   ]
  },
  {
   "cell_type": "code",
   "execution_count": 10,
   "metadata": {},
   "outputs": [
    {
     "name": "stdout",
     "output_type": "stream",
     "text": [
      "17\n",
      "17\n"
     ]
    },
    {
     "data": {
      "text/plain": [
       "(True, 'error testing 17 is prime')"
      ]
     },
     "execution_count": 10,
     "metadata": {},
     "output_type": "execute_result"
    }
   ],
   "source": [
    "#test the function\n",
    "primeTest(17), \"error testing 17 is prime\""
   ]
  },
  {
   "cell_type": "markdown",
   "metadata": {},
   "source": [
    "## Task 3: Write a program that display all the prime numbers less than 100 using while loop"
   ]
  },
  {
   "cell_type": "code",
   "execution_count": 15,
   "metadata": {},
   "outputs": [],
   "source": [
    "# write your code here\n",
    "def primeTest(num):\n",
    "    \n",
    "    #hint: start by assuming the number IS a prime\n",
    "    isPrime = True\n",
    "    l = []\n",
    "    \n",
    "    while i in range(1,num+1):\n",
    "        \n",
    "        num2 = num/i\n",
    "        l.append(num2)\n",
    "        \n",
    "    if l[0] == 1:\n",
    "        isPrime = False\n",
    "    elif l[1].is_integer():\n",
    "        isPrime = False\n",
    "    if l[0] == 2:\n",
    "        isPrime = True\n",
    "    else:\n",
    "        print(i)\n",
    "        print(num)\n",
    "        \n",
    "    return isPrime\n",
    "    \n",
    "        "
   ]
  },
  {
   "cell_type": "markdown",
   "metadata": {},
   "source": [
    "## Task 4: The sequence 1,4,9,16,25 is made up of square numbers. Write a program that writes out all the square numbers under 500."
   ]
  },
  {
   "cell_type": "code",
   "execution_count": null,
   "metadata": {},
   "outputs": [],
   "source": [
    "# write your code here\n",
    "\n",
    "def squareNum():\n",
    "\n",
    "    c = 0\n",
    "    while c > 500:\n",
    "        c += 1\n",
    "        print(c*c) \n",
    "    \n",
    "    return\n",
    "\n",
    "# now Call the function \n",
    "squareNum()"
   ]
  },
  {
   "cell_type": "markdown",
   "metadata": {},
   "source": [
    "## Task 5. Write a program to simulate throwing a die until 6 is thrown. The program outputs the average number of throws it took to get 6"
   ]
  },
  {
   "cell_type": "code",
   "execution_count": null,
   "metadata": {},
   "outputs": [],
   "source": [
    "# why do we need to use random library?\n",
    "from random import randint\n",
    "totalThrows = 0\n",
    "\n",
    "random_number = randint(1, 6)\n",
    "\n",
    "while random_number != 6:\n",
    "    totalThrows +=1\n",
    "    \n",
    "print('avarage num of throws is:',totalThrows/6)"
   ]
  },
  {
   "cell_type": "markdown",
   "metadata": {},
   "source": [
    "## Extension task\n",
    "Scrabble is a game where players get points by spelling words. Words are scored by adding together the point values of each individual letter.Define a function scrabble_score that takes a string word as input and returns the equivalent scrabble score for that word."
   ]
  },
  {
   "cell_type": "code",
   "execution_count": null,
   "metadata": {},
   "outputs": [],
   "source": [
    "score = {\"a\": 1, \"c\": 3, \"b\": 3, \"e\": 1, \"d\": 2, \"g\": 2,\n",
    "         \"f\": 4, \"i\": 1, \"h\": 4, \"k\": 5, \"j\": 8, \"m\": 3,\n",
    "         \"l\": 1, \"o\": 1, \"n\": 1, \"q\": 10, \"p\": 3, \"s\": 1,\n",
    "         \"r\": 1, \"u\": 1, \"t\": 1, \"w\": 4, \"v\": 4, \"y\": 4,\n",
    "         \"x\": 8, \"z\": 10}\n",
    "\n",
    "# write your code inside the function\n",
    "def scrabble_score(word):\n",
    "    \n",
    "    \n",
    "    return\n",
    "\n",
    "# Call the function with input parameter \"Hello\"\n",
    "scrabble_score(\"Hello\")\n"
   ]
  }
 ],
 "metadata": {
  "kernelspec": {
   "display_name": "Python 3",
   "language": "python",
   "name": "python3"
  },
  "language_info": {
   "codemirror_mode": {
    "name": "ipython",
    "version": 3
   },
   "file_extension": ".py",
   "mimetype": "text/x-python",
   "name": "python",
   "nbconvert_exporter": "python",
   "pygments_lexer": "ipython3",
   "version": "3.6.5"
  }
 },
 "nbformat": 4,
 "nbformat_minor": 2
}
